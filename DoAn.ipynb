{
 "cells": [
  {
   "cell_type": "code",
   "execution_count": 1,
   "metadata": {},
   "outputs": [],
   "source": [
    "import pyspark\n",
    "import matplotlib.pyplot as plt\n",
    "import pandas as pd"
   ]
  },
  {
   "cell_type": "code",
   "execution_count": 38,
   "metadata": {},
   "outputs": [],
   "source": [
    "from pyspark.sql import SparkSession\n",
    "from pyspark.sql.types import StructType\n",
    "from pyspark.sql.functions import count, desc, col\n",
    "from matplotlib.pyplot import figure\n"
   ]
  },
  {
   "cell_type": "code",
   "execution_count": 3,
   "metadata": {},
   "outputs": [
    {
     "name": "stderr",
     "output_type": "stream",
     "text": [
      "/home/hduser/.local/lib/python2.7/site-packages/pyspark/context.py:227: DeprecationWarning: Support for Python 2 and Python 3 prior to version 3.6 is deprecated as of Spark 3.0. See also the plan for dropping Python 2 support at https://spark.apache.org/news/plan-for-dropping-python-2-support.html.\n",
      "  DeprecationWarning)\n"
     ]
    }
   ],
   "source": [
    "spark = SparkSession.builder.master(\"local\").appName(\"hdfs_test\").getOrCreate()"
   ]
  },
  {
   "cell_type": "code",
   "execution_count": 4,
   "metadata": {},
   "outputs": [],
   "source": [
    "fileSchema = StructType().add(\"Head\",\"string\")\\\n",
    ".add(\"Predicate\",\"string\")\\\n",
    ".add(\"Tail\",\"string\")\n"
   ]
  },
  {
   "cell_type": "code",
   "execution_count": 18,
   "metadata": {},
   "outputs": [],
   "source": [
    "df1 = spark.read.csv(\"hdfs://hadoop1:54310/user/yago-facts.tsv\",sep='\\t' ,schema = fileSchema)\n"
   ]
  },
  {
   "cell_type": "code",
   "execution_count": 6,
   "metadata": {},
   "outputs": [
    {
     "name": "stdout",
     "output_type": "stream",
     "text": [
      "+--------------------+-----------------+--------------------+\n",
      "|                Head|        Predicate|                Tail|\n",
      "+--------------------+-----------------+--------------------+\n",
      "|       <Goo_(album)>|<copyrightHolder>|  <Raymond_Pettibon>|\n",
      "|           <Libtiff>|<copyrightHolder>|  <Silicon_Graphics>|\n",
      "|<Wendy_the_Good_L...|<copyrightHolder>|<Paramount_Pictures>|\n",
      "|         <Windows_7>|<copyrightHolder>|         <Microsoft>|\n",
      "|<Freaks_(1932_film)>|<copyrightHolder>|<Metro-Goldwyn-Ma...|\n",
      "|       <The_Plowboy>|<copyrightHolder>|<The_Walt_Disney_...|\n",
      "|      <Sandy_Cheeks>|<copyrightHolder>|<Viacom_(2005–2019)>|\n",
      "|         <A_esmorga>|<copyrightHolder>| <Editorial_Galaxia>|\n",
      "|<Ma_Jolie_(Picass...|<copyrightHolder>|<Artists_Rights_S...|\n",
      "|<Tempest_(video_g...|<copyrightHolder>|       <Atari,_Inc.>|\n",
      "|             <MacOS>|<copyrightHolder>|        <Apple_Inc.>|\n",
      "|<Oswald_the_Lucky...|<copyrightHolder>|<Universal_Pictures>|\n",
      "|<Casper_the_Frien...|<copyrightHolder>|<Paramount_Pictures>|\n",
      "|     <Yars'_Revenge>|<copyrightHolder>|       <Atari,_Inc.>|\n",
      "|<One_and_Three_Ch...|<copyrightHolder>|     <Joseph_Kosuth>|\n",
      "|            <86-DOS>|<copyrightHolder>|<Seattle_Computer...|\n",
      "|            <86-DOS>|<copyrightHolder>|         <Microsoft>|\n",
      "|<Triumph_of_the_W...|<copyrightHolder>|      <Transit_Film>|\n",
      "|<Triumph_of_the_W...|<copyrightHolder>|  <Leni_Riefenstahl>|\n",
      "|<Olympia_(1938_fi...|<copyrightHolder>|  <Leni_Riefenstahl>|\n",
      "+--------------------+-----------------+--------------------+\n",
      "only showing top 20 rows\n",
      "\n"
     ]
    }
   ],
   "source": [
    "df1.show()"
   ]
  },
  {
   "cell_type": "code",
   "execution_count": 35,
   "metadata": {},
   "outputs": [],
   "source": [
    "fileSchema1 = StructType().add(\"Entity\",\"string\")\\\n",
    ".add(\"Predicate\",\"string\")\\\n",
    ".add(\"Type\",\"string\")\n"
   ]
  },
  {
   "cell_type": "code",
   "execution_count": 36,
   "metadata": {},
   "outputs": [
    {
     "name": "stdout",
     "output_type": "stream",
     "text": [
      "+--------------------+---------+--------------------+\n",
      "|              Entity|Predicate|                Type|\n",
      "+--------------------+---------+--------------------+\n",
      "| <Harald_Ringstorff>|   <type>|             <Human>|\n",
      "|      <Ecclesiastes>|   <type>|    <Religious_text>|\n",
      "|      <Ecclesiastes>|   <type>|              <Book>|\n",
      "|        <Gao_Jingde>|   <type>|             <Human>|\n",
      "|           <Messeix>|   <type>|<Communes_of_France>|\n",
      "|  <Varena,_Trentino>|   <type>|            <Comune>|\n",
      "|  <Varena,_Trentino>|   <type>|<AdministrativeArea>|\n",
      "|  <Varena,_Trentino>|   <type>|       <Corporation>|\n",
      "|     <Aggiornamento>|   <type>|             <Thing>|\n",
      "|       <Ewa_Fröling>|   <type>|             <Human>|\n",
      "|<Acoustic_Live_(E...|   <type>|        <Live_album>|\n",
      "|  <Gustavia_superba>|   <type>|<http://bioschema...|\n",
      "|      <Ronny_Hafsås>|   <type>|             <Human>|\n",
      "|<ACI_Vallelunga_C...|   <type>|        <Race_track>|\n",
      "|            <Bunkka>|   <type>|        <MusicAlbum>|\n",
      "|   <Brinkman_number>|   <type>|             <Thing>|\n",
      "|   <Brinkman_number>|   <type>|<Dimensionless_nu...|\n",
      "|    <Sheppard_Point>|   <type>|          <Headland>|\n",
      "|         <Anna_Moór>|   <type>|             <Human>|\n",
      "|          <Europcar>|   <type>|          <Business>|\n",
      "+--------------------+---------+--------------------+\n",
      "only showing top 20 rows\n",
      "\n"
     ]
    }
   ],
   "source": [
    "df2 = spark.read.csv(\"hdfs://hadoop1:54310/user/yago-full-types.tsv\",sep='\\t' ,schema = fileSchema1)\n",
    "df2.show()"
   ]
  },
  {
   "cell_type": "code",
   "execution_count": 21,
   "metadata": {},
   "outputs": [
    {
     "name": "stdout",
     "output_type": "stream",
     "text": [
      "+--------------------+-----------------+--------------------+\n",
      "|                Head|        Predicate|                Tail|\n",
      "+--------------------+-----------------+--------------------+\n",
      "|       <Goo_(album)>|<copyrightHolder>|  <Raymond_Pettibon>|\n",
      "|           <Libtiff>|<copyrightHolder>|  <Silicon_Graphics>|\n",
      "|<Wendy_the_Good_L...|<copyrightHolder>|<Paramount_Pictures>|\n",
      "|         <Windows_7>|<copyrightHolder>|         <Microsoft>|\n",
      "|<Freaks_(1932_film)>|<copyrightHolder>|<Metro-Goldwyn-Ma...|\n",
      "|       <The_Plowboy>|<copyrightHolder>|<The_Walt_Disney_...|\n",
      "|      <Sandy_Cheeks>|<copyrightHolder>|<Viacom_(2005–2019)>|\n",
      "|         <A_esmorga>|<copyrightHolder>| <Editorial_Galaxia>|\n",
      "|<Ma_Jolie_(Picass...|<copyrightHolder>|<Artists_Rights_S...|\n",
      "|<Tempest_(video_g...|<copyrightHolder>|       <Atari,_Inc.>|\n",
      "|             <MacOS>|<copyrightHolder>|        <Apple_Inc.>|\n",
      "|<Oswald_the_Lucky...|<copyrightHolder>|<Universal_Pictures>|\n",
      "|<Casper_the_Frien...|<copyrightHolder>|<Paramount_Pictures>|\n",
      "|     <Yars'_Revenge>|<copyrightHolder>|       <Atari,_Inc.>|\n",
      "|<One_and_Three_Ch...|<copyrightHolder>|     <Joseph_Kosuth>|\n",
      "|            <86-DOS>|<copyrightHolder>|<Seattle_Computer...|\n",
      "|            <86-DOS>|<copyrightHolder>|         <Microsoft>|\n",
      "|<Triumph_of_the_W...|<copyrightHolder>|      <Transit_Film>|\n",
      "|<Triumph_of_the_W...|<copyrightHolder>|  <Leni_Riefenstahl>|\n",
      "|<Olympia_(1938_fi...|<copyrightHolder>|  <Leni_Riefenstahl>|\n",
      "+--------------------+-----------------+--------------------+\n",
      "only showing top 20 rows\n",
      "\n"
     ]
    }
   ],
   "source": [
    "uniondf=df1.union(df2)\n",
    "uniondf.show()"
   ]
  },
  {
   "cell_type": "code",
   "execution_count": 22,
   "metadata": {},
   "outputs": [
    {
     "data": {
      "text/plain": [
       "[Row(count(Head)=28075025, count(Predicate)=28075025, count(Tail)=28075023)]"
      ]
     },
     "execution_count": 22,
     "metadata": {},
     "output_type": "execute_result"
    }
   ],
   "source": [
    "uniondf.select(count('Head'),count('Predicate'),count('Tail')).collect()\n"
   ]
  },
  {
   "cell_type": "code",
   "execution_count": 23,
   "metadata": {},
   "outputs": [
    {
     "data": {
      "image/png": "[encoded data removed]",
      "text/plain": [
       "<Figure size 432x288 with 1 Axes>"
      ]
     },
     "metadata": {
      "needs_background": "light"
     },
     "output_type": "display_data"
    }
   ],
   "source": [
    "df3 = pd.DataFrame({\n",
    "    'Column':['Head','Predicate','Tail'],\n",
    "    'Total':[28075025,28075025,28075023]\n",
    "})\n",
    "plt.bar(df3[\"Column\"], df3[\"Total\"])\n",
    "plt.title(\"Number of elements in file\")\n",
    "plt.show()"
   ]
  },
  {
   "cell_type": "code",
   "execution_count": 27,
   "metadata": {},
   "outputs": [
    {
     "name": "stdout",
     "output_type": "stream",
     "text": [
      "+--------------------+-------+\n",
      "|                Tail|  count|\n",
      "+--------------------+-------+\n",
      "|             <Human>|1691127|\n",
      "|<http://bioschema...| 402482|\n",
      "|<AdministrativeArea>| 210851|\n",
      "|             <Movie>| 136646|\n",
      "|  <Human_settlement>| 116940|\n",
      "|             <Thing>| 111788|\n",
      "|        <MusicAlbum>| 111501|\n",
      "|           <Village>|  88749|\n",
      "|      <CreativeWork>|  83343|\n",
      "|   <Season_(sports)>|  76863|\n",
      "+--------------------+-------+\n",
      "only showing top 10 rows\n",
      "\n"
     ]
    }
   ],
   "source": [
    "df2.groupBy('Tail').count().sort(desc('count')).show(10)\n"
   ]
  },
  {
   "cell_type": "code",
   "execution_count": 28,
   "metadata": {},
   "outputs": [
    {
     "data": {
      "image/png": "[encoded data removed]",
      "text/plain": [
       "<Figure size 1400x800 with 1 Axes>"
      ]
     },
     "metadata": {
      "needs_background": "light"
     },
     "output_type": "display_data"
    }
   ],
   "source": [
    "df4 = pd.DataFrame({\n",
    "    'Column':['Human','http://bioschema...','AdministrativeArea','Movie','Human_settlement','Thing','MusicAlbum','Village','CreativeWork','Season_sports'],\n",
    "    'Total':[1691127,402482,210851,136646,116940,111788,111501,88749,83343,76863]\n",
    "})\n",
    "plt.figure(figsize=(14,8), dpi = 100)\n",
    "plt.bar(df4['Column'],df4['Total'])\n",
    "plt.show()"
   ]
  },
  {
   "cell_type": "code",
   "execution_count": 30,
   "metadata": {},
   "outputs": [],
   "source": [
    "di = df1.filter(df1.Predicate.like(\"%director%\"))\n"
   ]
  },
  {
   "cell_type": "code",
   "execution_count": 31,
   "metadata": {},
   "outputs": [
    {
     "name": "stdout",
     "output_type": "stream",
     "text": [
      "+------------------+-----+\n",
      "|              Tail|count|\n",
      "+------------------+-----+\n",
      "|  <D._W._Griffith>|  307|\n",
      "|     <Trey_Parker>|  266|\n",
      "|    <Friz_Freleng>|  242|\n",
      "|     <Chuck_Jones>|  237|\n",
      "|   <Pamela_Fryman>|  194|\n",
      "|<William_Beaudine>|  180|\n",
      "|    <Sam_Newfield>|  179|\n",
      "|  <Michael_Curtiz>|  171|\n",
      "| <Robert_McKimson>|  167|\n",
      "|   <Sidney_Olcott>|  166|\n",
      "+------------------+-----+\n",
      "only showing top 10 rows\n",
      "\n"
     ]
    }
   ],
   "source": [
    "di.groupBy('Tail').count().sort(desc('count')).show(10)"
   ]
  },
  {
   "cell_type": "code",
   "execution_count": 34,
   "metadata": {},
   "outputs": [
    {
     "data": {
      "image/png": "[encoded data removed]",
      "text/plain": [
       "<Figure size 2000x1400 with 1 Axes>"
      ]
     },
     "metadata": {
      "needs_background": "light"
     },
     "output_type": "display_data"
    }
   ],
   "source": [
    "df5 = pd.DataFrame({\n",
    "    'Column':['D._W._Griffith','Trey_Parker','Friz_Freleng','Chuck_Jones','Pamela_Fryman','William_Beaudine','Sam_Newfield','Michael_Curtiz','Robert_McKimson','Sidney_Olcott'],\n",
    "    'Total':[307,266,242,237,194,180,179,171,167,166]\n",
    "})\n",
    "plt.figure(figsize=(20,14), dpi = 100)\n",
    "plt.bar(df5['Column'],df5['Total'])\n",
    "plt.ylabel('Films')\n",
    "plt.xlabel('Director')\n",
    "plt.show()"
   ]
  },
  {
   "cell_type": "code",
   "execution_count": 39,
   "metadata": {},
   "outputs": [
    {
     "name": "stdout",
     "output_type": "stream",
     "text": [
      "+--------------------+------------------+--------------------+\n",
      "|          Head-Types|         Predicate|                Tail|\n",
      "+--------------------+------------------+--------------------+\n",
      "|<%3F_and_the_Myst...|           <genre>|       <Garage_rock>|\n",
      "|<%3F_and_the_Myst...|             <url>|http://96tears.ne...|\n",
      "|<%3F_and_the_Myst...|    <foundingDate>|1962^^<http://www...|\n",
      "|<%3F_and_the_Myst...|<foundingLocation>|   <Flint,_Michigan>|\n",
      "|<%60Adaylou_(dist...|             <geo>|<geo:11.960277777...|\n",
      "|   <(9948)_1990_QB2>|           <image>|<http://commons.w...|\n",
      "|<(Can't_Live_With...|        <isPartOf>|<After_the_Rain_(...|\n",
      "|<(Can't_Live_With...|           <genre>|         <Hard_rock>|\n",
      "|<(Can't_Live_With...|   <datePublished>|1990-05-19^^<http...|\n",
      "|          <(a)spera>|      <inLanguage>|  <English_language>|\n",
      "|          <(a)spera>|   <datePublished>|2009-03-10^^<http...|\n",
      "|<...And_Justice_f...|        <isPartOf>|<...And_Justice_f...|\n",
      "|<...And_Justice_f...|        <isPartOf>|<...And_Justice_f...|\n",
      "|<...And_Justice_f...|        <composer>|    <James_Hetfield>|\n",
      "|<...And_Justice_f...|        <composer>|    <James_Hetfield>|\n",
      "|<...And_Justice_f...|           <genre>|      <Thrash_metal>|\n",
      "|<...And_Justice_f...|           <genre>|      <Thrash_metal>|\n",
      "|<...And_Justice_f...|   <datePublished>|1988-09-06^^<http...|\n",
      "|<...And_Justice_f...|   <datePublished>|1988-09-06^^<http...|\n",
      "|<...And_Then_You_...|      <inLanguage>|  <English_language>|\n",
      "+--------------------+------------------+--------------------+\n",
      "only showing top 20 rows\n",
      "\n"
     ]
    }
   ],
   "source": [
    "join1 = df1.alias(\"a\").join(df2.alias(\"b\"),df1[\"Head\"]==df2[\"Entity\"]).select(col(\"a.Head\").alias(\"Head-Types\"),\"a.Predicate\",\"a.Tail\")\n",
    "join1.show()"
   ]
  },
  {
   "cell_type": "code",
   "execution_count": 46,
   "metadata": {},
   "outputs": [
    {
     "name": "stdout",
     "output_type": "stream",
     "text": [
      "+--------------------+------------+--------------------+--------------------+---------+--------------------+\n",
      "|          Head-Types|   Predicate|                Tail|              Entity|Predicate|                Type|\n",
      "+--------------------+------------+--------------------+--------------------+---------+--------------------+\n",
      "|       <More_Action>|  <byArtist>|<%3F_and_the_Myst...|<%3F_and_the_Myst...|   <type>|        <MusicGroup>|\n",
      "|<Question_Mark_&_...|  <byArtist>|<%3F_and_the_Myst...|<%3F_and_the_Myst...|   <type>|        <MusicGroup>|\n",
      "|  <96_Tears_(album)>|  <byArtist>|<%3F_and_the_Myst...|<%3F_and_the_Myst...|   <type>|        <MusicGroup>|\n",
      "|<Action_(Question...|  <byArtist>|<%3F_and_the_Myst...|<%3F_and_the_Myst...|   <type>|        <MusicGroup>|\n",
      "|<How_About_You_(S...|  <isPartOf>| <14_Shades_of_Grey>| <14_Shades_of_Grey>|   <type>|        <MusicAlbum>|\n",
      "|<So_Far_Away_(Sta...|  <isPartOf>| <14_Shades_of_Grey>| <14_Shades_of_Grey>|   <type>|        <MusicAlbum>|\n",
      "|     <Price_to_Play>|  <isPartOf>| <14_Shades_of_Grey>| <14_Shades_of_Grey>|   <type>|        <MusicAlbum>|\n",
      "|<Stand_by_Your_Ma...|  <isPartOf>|<14_Shots_to_the_...|<14_Shots_to_the_...|   <type>|        <MusicAlbum>|\n",
      "|<Back_Seat_(of_My...|  <isPartOf>|<14_Shots_to_the_...|<14_Shots_to_the_...|   <type>|        <MusicAlbum>|\n",
      "|<Pink_Cookies_In_...|  <isPartOf>|<14_Shots_to_the_...|<14_Shots_to_the_...|   <type>|        <MusicAlbum>|\n",
      "|    <How_I'm_Comin'>|  <isPartOf>|<14_Shots_to_the_...|<14_Shots_to_the_...|   <type>|        <MusicAlbum>|\n",
      "|<1822_United_Stat...|<superEvent>|<1822_and_1823_Un...|<1822_and_1823_Un...|   <type>|       <EventSeries>|\n",
      "|<1828_United_Stat...|<superEvent>|<1828_and_1829_Un...|<1828_and_1829_Un...|   <type>|       <EventSeries>|\n",
      "| <1950_FA_Cup_Final>|<superEvent>|    <1949–50_FA_Cup>|    <1949–50_FA_Cup>|   <type>|   <Season_(sports)>|\n",
      "|<1967_Australian_...|  <subEvent>|<1967_Australian_...|<1967_Australian_...|   <type>|       <SportsEvent>|\n",
      "|<1967_Australian_...|  <subEvent>|<1967_Australian_...|<1967_Australian_...|   <type>|       <SportsEvent>|\n",
      "|<1969_Taça_de_Por...|<superEvent>|<1968–69_Taça_de_...|<1968–69_Taça_de_...|   <type>|   <Season_(sports)>|\n",
      "|<1969_Taça_de_Por...|<superEvent>|<1968–69_Taça_de_...|<1968–69_Taça_de_...|   <type>|   <Season_(sports)>|\n",
      "|<1969_Queen's_Clu...|<superEvent>|<1969_Queen's_Clu...|<1969_Queen's_Clu...|   <type>|       <EventSeries>|\n",
      "|<1969_Queen's_Clu...|<superEvent>|<1969_Queen's_Clu...|<1969_Queen's_Clu...|   <type>|<Queen's_Club_Cha...|\n",
      "+--------------------+------------+--------------------+--------------------+---------+--------------------+\n",
      "only showing top 20 rows\n",
      "\n"
     ]
    }
   ],
   "source": [
    "join2 = join1.alias(\"a\").join(df2.alias(\"b\"),join1[\"Tail\"]==df2[\"Entity\"])\n",
    "join2.show()"
   ]
  },
  {
   "cell_type": "code",
   "execution_count": null,
   "metadata": {},
   "outputs": [],
   "source": []
  }
 ],
 "metadata": {
  "kernelspec": {
   "display_name": "Python 2",
   "language": "python",
   "name": "python2"
  },
  "language_info": {
   "codemirror_mode": {
    "name": "ipython",
    "version": 2
   },
   "file_extension": ".py",
   "mimetype": "text/x-python",
   "name": "python",
   "nbconvert_exporter": "python",
   "pygments_lexer": "ipython2",
   "version": "2.7.12"
  }
 },
 "nbformat": 4,
 "nbformat_minor": 2
}
